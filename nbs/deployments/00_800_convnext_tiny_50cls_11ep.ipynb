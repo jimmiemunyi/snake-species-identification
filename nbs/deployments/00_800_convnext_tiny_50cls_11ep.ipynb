{
 "cells": [
  {
   "cell_type": "code",
   "execution_count": null,
   "metadata": {},
   "outputs": [],
   "source": [
    "from fastai.vision.all import *"
   ]
  },
  {
   "cell_type": "code",
   "execution_count": null,
   "metadata": {},
   "outputs": [
    {
     "data": {
      "text/plain": [
       "(#3) [Path('../../models/debug'),Path('../../models/learners'),Path('../../models/train')]"
      ]
     },
     "execution_count": null,
     "metadata": {},
     "output_type": "execute_result"
    }
   ],
   "source": [
    "Path(\"../../models\").ls()"
   ]
  },
  {
   "cell_type": "code",
   "execution_count": null,
   "metadata": {},
   "outputs": [
    {
     "data": {
      "text/plain": [
       "<function fastai.learner.load_learner(fname, cpu=True, pickle_module=<module 'pickle' from '/home/eleven/mambaforge/envs/fastai/lib/python3.10/pickle.py'>)>"
      ]
     },
     "execution_count": null,
     "metadata": {},
     "output_type": "execute_result"
    }
   ],
   "source": [
    "load_learner"
   ]
  },
  {
   "cell_type": "code",
   "execution_count": null,
   "metadata": {},
   "outputs": [],
   "source": [
    "models_path = Path(\"../../models\")\n",
    "images_path = Path(\"test_images\")"
   ]
  },
  {
   "cell_type": "code",
   "execution_count": null,
   "metadata": {},
   "outputs": [
    {
     "data": {
      "text/plain": [
       "(#1) [Path('test_images/agkistrodon.png')]"
      ]
     },
     "execution_count": null,
     "metadata": {},
     "output_type": "execute_result"
    }
   ],
   "source": [
    "images_path.ls()"
   ]
  },
  {
   "cell_type": "code",
   "execution_count": null,
   "metadata": {},
   "outputs": [],
   "source": [
    "learn = load_learner(f\"{models_path}/learners/800_convnext_tiny_50cls_11ep.pkl\")"
   ]
  },
  {
   "cell_type": "code",
   "execution_count": null,
   "metadata": {},
   "outputs": [],
   "source": [
    "categories = learn.dls.vocab"
   ]
  },
  {
   "cell_type": "code",
   "execution_count": null,
   "metadata": {},
   "outputs": [],
   "source": [
    "def classify_image(img):\n",
    "    pred,idx,probs = learn.predict(img)\n",
    "    return dict(zip(categories, map(float, probs)))"
   ]
  },
  {
   "cell_type": "code",
   "execution_count": null,
   "metadata": {},
   "outputs": [
    {
     "data": {
      "text/plain": [
       "{'Agkistrodon contortrix': 0.9999862909317017,\n",
       " 'Agkistrodon piscivorus': 4.1350494939251803e-07,\n",
       " 'Boa imperator': 5.36331334899387e-08,\n",
       " 'Carphophis amoenus': 2.7886454034842245e-08,\n",
       " 'Charina bottae': 2.3849684112065006e-06,\n",
       " 'Coluber constrictor': 6.731106338975223e-08,\n",
       " 'Contia tenuis': 9.370239695272176e-08,\n",
       " 'Crotalus adamanteus': 5.714871775808206e-08,\n",
       " 'Crotalus atrox': 4.268462987511157e-07,\n",
       " 'Crotalus horridus': 4.03487973699157e-07,\n",
       " 'Crotalus pyrrhus': 1.414072130501154e-07,\n",
       " 'Crotalus ruber': 2.0343229323316336e-07,\n",
       " 'Crotalus scutulatus': 4.908899953193213e-09,\n",
       " 'Crotalus viridis': 1.2780768088305194e-07,\n",
       " 'Diadophis punctatus': 4.7614011577934434e-07,\n",
       " 'Haldea striatula': 5.974359851279587e-08,\n",
       " 'Heterodon platirhinos': 8.20453838201729e-09,\n",
       " 'Hierophis viridiflavus': 3.5209648530099e-08,\n",
       " 'Lampropeltis californiae': 1.2499575596791601e-08,\n",
       " 'Lampropeltis getula': 5.3740247807354535e-08,\n",
       " 'Lampropeltis triangulum': 2.629984408031305e-07,\n",
       " 'Masticophis flagellum': 1.0778396131172485e-07,\n",
       " 'Micrurus tener': 9.775730092087542e-08,\n",
       " 'Natrix natrix': 4.3202586397228515e-08,\n",
       " 'Nerodia erythrogaster': 1.1163361790522686e-07,\n",
       " 'Nerodia fasciata': 1.099564087780891e-06,\n",
       " 'Nerodia rhombifer': 1.1203435512641136e-08,\n",
       " 'Nerodia sipedon': 3.813275384345616e-07,\n",
       " 'Opheodrys aestivus': 1.9023368622583803e-06,\n",
       " 'Opheodrys vernalis': 1.158417148872104e-07,\n",
       " 'Pantherophis alleghaniensis': 1.5549899501365871e-07,\n",
       " 'Pantherophis emoryi': 1.3956983480056806e-07,\n",
       " 'Pantherophis guttatus': 2.0760563046451352e-08,\n",
       " 'Pantherophis obsoletus': 4.6186596591724083e-07,\n",
       " 'Pantherophis spiloides': 2.794146496398753e-07,\n",
       " 'Pantherophis vulpinus': 1.5280866350053657e-08,\n",
       " 'Pituophis catenifer': 1.2712360053512839e-08,\n",
       " 'Regina septemvittata': 2.792409645735461e-07,\n",
       " 'Rhinocheilus lecontei': 2.5151493332487007e-08,\n",
       " 'Storeria dekayi': 7.829979864482084e-08,\n",
       " 'Storeria occipitomaculata': 8.03545461280919e-08,\n",
       " 'Thamnophis elegans': 2.70368701649204e-07,\n",
       " 'Thamnophis hammondii': 2.5723643659603113e-08,\n",
       " 'Thamnophis marcianus': 3.267937813689059e-07,\n",
       " 'Thamnophis ordinoides': 6.985342970722286e-09,\n",
       " 'Thamnophis proximus': 1.4515825341732125e-06,\n",
       " 'Thamnophis radix': 3.325238395746055e-08,\n",
       " 'Thamnophis sirtalis': 3.8351393527591426e-07,\n",
       " 'Vipera berus': 3.6094277788834006e-07,\n",
       " 'Zamenis longissimus': 1.3084459737910947e-08}"
      ]
     },
     "execution_count": null,
     "metadata": {},
     "output_type": "execute_result"
    }
   ],
   "source": [
    "classify_image(images_path.ls()[0])"
   ]
  },
  {
   "cell_type": "code",
   "execution_count": null,
   "metadata": {},
   "outputs": [
    {
     "data": {
      "text/plain": [
       "{'Agkistrodon contortrix': 2.0585608581313863e-05,\n",
       " 'Agkistrodon piscivorus': 0.00025480109616182745,\n",
       " 'Boa imperator': 3.648870551842265e-05,\n",
       " 'Carphophis amoenus': 4.4786436774302274e-05,\n",
       " 'Charina bottae': 7.121217640815303e-05,\n",
       " 'Coluber constrictor': 0.00010908880358329043,\n",
       " 'Contia tenuis': 0.004628913942724466,\n",
       " 'Crotalus adamanteus': 0.00010887221287703142,\n",
       " 'Crotalus atrox': 3.790261325775646e-05,\n",
       " 'Crotalus horridus': 0.00023627695918548852,\n",
       " 'Crotalus pyrrhus': 2.1461202777572908e-05,\n",
       " 'Crotalus ruber': 3.330445906613022e-05,\n",
       " 'Crotalus scutulatus': 4.0642476960783824e-05,\n",
       " 'Crotalus viridis': 5.855118070030585e-05,\n",
       " 'Diadophis punctatus': 0.0003218565252609551,\n",
       " 'Haldea striatula': 9.462387424719054e-06,\n",
       " 'Heterodon platirhinos': 0.00024894587113521993,\n",
       " 'Hierophis viridiflavus': 1.588263899066078e-06,\n",
       " 'Lampropeltis californiae': 0.009383805096149445,\n",
       " 'Lampropeltis getula': 0.0013133296743035316,\n",
       " 'Lampropeltis triangulum': 0.8900327086448669,\n",
       " 'Masticophis flagellum': 0.00012230539869051427,\n",
       " 'Micrurus tener': 0.03269055485725403,\n",
       " 'Natrix natrix': 2.3543245333712548e-05,\n",
       " 'Nerodia erythrogaster': 3.2191235277423402e-06,\n",
       " 'Nerodia fasciata': 1.345079090242507e-05,\n",
       " 'Nerodia rhombifer': 4.9890084483195096e-05,\n",
       " 'Nerodia sipedon': 4.552158134174533e-05,\n",
       " 'Opheodrys aestivus': 9.927355131367221e-05,\n",
       " 'Opheodrys vernalis': 0.0001217535391333513,\n",
       " 'Pantherophis alleghaniensis': 0.00011575712414924055,\n",
       " 'Pantherophis emoryi': 0.00016841661999933422,\n",
       " 'Pantherophis guttatus': 0.012393400073051453,\n",
       " 'Pantherophis obsoletus': 0.00013890232366975397,\n",
       " 'Pantherophis spiloides': 1.7895459677674808e-05,\n",
       " 'Pantherophis vulpinus': 0.0004410617984831333,\n",
       " 'Pituophis catenifer': 5.687151769961929e-06,\n",
       " 'Regina septemvittata': 0.00020101064001210034,\n",
       " 'Rhinocheilus lecontei': 0.045251451432704926,\n",
       " 'Storeria dekayi': 1.72102554643061e-05,\n",
       " 'Storeria occipitomaculata': 7.164391718106344e-05,\n",
       " 'Thamnophis elegans': 1.9293736841063946e-05,\n",
       " 'Thamnophis hammondii': 1.9125507606077008e-05,\n",
       " 'Thamnophis marcianus': 1.694156162557192e-05,\n",
       " 'Thamnophis ordinoides': 0.0007383764605037868,\n",
       " 'Thamnophis proximus': 2.4756336642894894e-05,\n",
       " 'Thamnophis radix': 1.686939867795445e-05,\n",
       " 'Thamnophis sirtalis': 2.7351463359082118e-05,\n",
       " 'Vipera berus': 2.331567338842433e-05,\n",
       " 'Zamenis longissimus': 0.00010745593317551538}"
      ]
     },
     "execution_count": null,
     "metadata": {},
     "output_type": "execute_result"
    }
   ],
   "source": [
    "classify_image(images_path.ls()[1])"
   ]
  },
  {
   "cell_type": "code",
   "execution_count": null,
   "metadata": {},
   "outputs": [
    {
     "data": {
      "text/plain": [
       "{'Agkistrodon contortrix': 0.00018232681031804532,\n",
       " 'Agkistrodon piscivorus': 0.01913437247276306,\n",
       " 'Boa imperator': 0.00021435121016111225,\n",
       " 'Carphophis amoenus': 0.00023685224005021155,\n",
       " 'Charina bottae': 0.00023596236133016646,\n",
       " 'Coluber constrictor': 0.0016079324996098876,\n",
       " 'Contia tenuis': 0.00030937689007259905,\n",
       " 'Crotalus adamanteus': 0.0011129396734759212,\n",
       " 'Crotalus atrox': 0.0007103721145540476,\n",
       " 'Crotalus horridus': 0.010099722072482109,\n",
       " 'Crotalus pyrrhus': 0.0004711317305918783,\n",
       " 'Crotalus ruber': 8.548126061214134e-05,\n",
       " 'Crotalus scutulatus': 0.00017920676327776164,\n",
       " 'Crotalus viridis': 0.00018383972928859293,\n",
       " 'Diadophis punctatus': 0.0010242204880341887,\n",
       " 'Haldea striatula': 0.005963989999145269,\n",
       " 'Heterodon platirhinos': 0.00017261976609006524,\n",
       " 'Hierophis viridiflavus': 0.0004490325809456408,\n",
       " 'Lampropeltis californiae': 0.00028529862174764276,\n",
       " 'Lampropeltis getula': 0.000579099461901933,\n",
       " 'Lampropeltis triangulum': 0.003459534142166376,\n",
       " 'Masticophis flagellum': 0.0010918236803263426,\n",
       " 'Micrurus tener': 0.0019778397399932146,\n",
       " 'Natrix natrix': 0.014300589449703693,\n",
       " 'Nerodia erythrogaster': 0.025966236367821693,\n",
       " 'Nerodia fasciata': 0.012462111189961433,\n",
       " 'Nerodia rhombifer': 0.5903714299201965,\n",
       " 'Nerodia sipedon': 0.08184712380170822,\n",
       " 'Opheodrys aestivus': 0.0007540088263340294,\n",
       " 'Opheodrys vernalis': 0.0002791701117530465,\n",
       " 'Pantherophis alleghaniensis': 0.004683174192905426,\n",
       " 'Pantherophis emoryi': 0.0008728730608709157,\n",
       " 'Pantherophis guttatus': 0.01369546540081501,\n",
       " 'Pantherophis obsoletus': 0.001224634819664061,\n",
       " 'Pantherophis spiloides': 0.0018847767496481538,\n",
       " 'Pantherophis vulpinus': 0.012599986046552658,\n",
       " 'Pituophis catenifer': 0.0008392861927859485,\n",
       " 'Regina septemvittata': 0.02057582326233387,\n",
       " 'Rhinocheilus lecontei': 0.00018682899826671928,\n",
       " 'Storeria dekayi': 0.00381879392080009,\n",
       " 'Storeria occipitomaculata': 0.0003903056203853339,\n",
       " 'Thamnophis elegans': 0.012628334574401379,\n",
       " 'Thamnophis hammondii': 0.024539915844798088,\n",
       " 'Thamnophis marcianus': 0.09751251339912415,\n",
       " 'Thamnophis ordinoides': 0.0008023477275855839,\n",
       " 'Thamnophis proximus': 0.002450192579999566,\n",
       " 'Thamnophis radix': 0.003257692325860262,\n",
       " 'Thamnophis sirtalis': 0.021063869819045067,\n",
       " 'Vipera berus': 0.00010261166607961059,\n",
       " 'Zamenis longissimus': 0.0011225247289985418}"
      ]
     },
     "execution_count": null,
     "metadata": {},
     "output_type": "execute_result"
    }
   ],
   "source": [
    "classify_image(images_path.ls()[2])"
   ]
  },
  {
   "cell_type": "code",
   "execution_count": null,
   "metadata": {},
   "outputs": [
    {
     "data": {
      "text/plain": [
       "('Lampropeltis triangulum',\n",
       " TensorBase(20),\n",
       " TensorBase([2.0586e-05, 2.5480e-04, 3.6489e-05, 4.4786e-05, 7.1212e-05,\n",
       "             1.0909e-04, 4.6289e-03, 1.0887e-04, 3.7903e-05, 2.3628e-04,\n",
       "             2.1461e-05, 3.3304e-05, 4.0642e-05, 5.8551e-05, 3.2186e-04,\n",
       "             9.4624e-06, 2.4895e-04, 1.5883e-06, 9.3838e-03, 1.3133e-03,\n",
       "             8.9003e-01, 1.2231e-04, 3.2691e-02, 2.3543e-05, 3.2191e-06,\n",
       "             1.3451e-05, 4.9890e-05, 4.5522e-05, 9.9274e-05, 1.2175e-04,\n",
       "             1.1576e-04, 1.6842e-04, 1.2393e-02, 1.3890e-04, 1.7895e-05,\n",
       "             4.4106e-04, 5.6872e-06, 2.0101e-04, 4.5251e-02, 1.7210e-05,\n",
       "             7.1644e-05, 1.9294e-05, 1.9126e-05, 1.6942e-05, 7.3838e-04,\n",
       "             2.4756e-05, 1.6869e-05, 2.7351e-05, 2.3316e-05, 1.0746e-04]))"
      ]
     },
     "execution_count": null,
     "metadata": {},
     "output_type": "execute_result"
    }
   ],
   "source": [
    "learn.predict(images_path.ls()[1])"
   ]
  },
  {
   "cell_type": "code",
   "execution_count": null,
   "metadata": {},
   "outputs": [
    {
     "data": {
      "text/plain": [
       "('Nerodia rhombifer',\n",
       " TensorBase(26),\n",
       " TensorBase([1.8233e-04, 1.9134e-02, 2.1435e-04, 2.3685e-04, 2.3596e-04,\n",
       "             1.6079e-03, 3.0938e-04, 1.1129e-03, 7.1037e-04, 1.0100e-02,\n",
       "             4.7113e-04, 8.5481e-05, 1.7921e-04, 1.8384e-04, 1.0242e-03,\n",
       "             5.9640e-03, 1.7262e-04, 4.4903e-04, 2.8530e-04, 5.7910e-04,\n",
       "             3.4595e-03, 1.0918e-03, 1.9778e-03, 1.4301e-02, 2.5966e-02,\n",
       "             1.2462e-02, 5.9037e-01, 8.1847e-02, 7.5401e-04, 2.7917e-04,\n",
       "             4.6832e-03, 8.7287e-04, 1.3695e-02, 1.2246e-03, 1.8848e-03,\n",
       "             1.2600e-02, 8.3929e-04, 2.0576e-02, 1.8683e-04, 3.8188e-03,\n",
       "             3.9031e-04, 1.2628e-02, 2.4540e-02, 9.7513e-02, 8.0235e-04,\n",
       "             2.4502e-03, 3.2577e-03, 2.1064e-02, 1.0261e-04, 1.1225e-03]))"
      ]
     },
     "execution_count": null,
     "metadata": {},
     "output_type": "execute_result"
    }
   ],
   "source": [
    "learn.predict(images_path.ls()[2])"
   ]
  },
  {
   "cell_type": "code",
   "execution_count": null,
   "metadata": {},
   "outputs": [
    {
     "data": {
      "text/plain": [
       "'https://huggingface.co/Jimmie/snake-image-classification/tree/main/'"
      ]
     },
     "execution_count": null,
     "metadata": {},
     "output_type": "execute_result"
    }
   ],
   "source": [
    "from huggingface_hub import push_to_hub_fastai\n",
    "\n",
    "# repo_id = \"YOUR_USERNAME/YOUR_LEARNER_NAME\"\n",
    "repo_id = \"Jimmie/snake-image-classification\"\n",
    "\n",
    "push_to_hub_fastai(learner=learn, repo_id=repo_id)\n"
   ]
  },
  {
   "cell_type": "code",
   "execution_count": null,
   "metadata": {},
   "outputs": [],
   "source": []
  }
 ],
 "metadata": {
  "kernelspec": {
   "display_name": "python3",
   "language": "python",
   "name": "python3"
  }
 },
 "nbformat": 4,
 "nbformat_minor": 2
}
